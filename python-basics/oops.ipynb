{
 "cells": [
  {
   "cell_type": "markdown",
   "metadata": {},
   "source": [
    "# **_OOPs (Object oriented programming)_**"
   ]
  },
  {
   "cell_type": "code",
   "execution_count": 3,
   "metadata": {},
   "outputs": [
    {
     "name": "stdout",
     "output_type": "stream",
     "text": [
      "shivam\n",
      "19\n",
      "shivam is talking\n"
     ]
    }
   ],
   "source": [
    "class Person:\n",
    "    # constructor\n",
    "    def __init__(self, name, age):\n",
    "        self.name = name\n",
    "        self.age = age\n",
    "    \n",
    "    def talk(self):\n",
    "        print(f\"{self.name} is talking\")\n",
    "\n",
    "# initialising an object \n",
    "p1 = Person(\"shivam\", 19)\n",
    "print(p1.name)\n",
    "print(p1.age)\n",
    "p1.talk()"
   ]
  },
  {
   "cell_type": "markdown",
   "metadata": {},
   "source": [
    "## **Inheritance**\n",
    "Inheritance refers to a fundamental property of oops that allows a child class to inherit the properties of it's parent's class"
   ]
  },
  {
   "cell_type": "markdown",
   "metadata": {},
   "source": [
    "### Single inheritance\n",
    "When a child class inherits the properties from a single Parent class"
   ]
  },
  {
   "cell_type": "code",
   "execution_count": 2,
   "metadata": {},
   "outputs": [
    {
     "name": "stdout",
     "output_type": "stream",
     "text": [
      "The person is driving a Diesel car\n"
     ]
    }
   ],
   "source": [
    "# Parent class\n",
    "class Car:\n",
    "    def __init__(self, windows, doors, engineType):\n",
    "        self.windows = windows\n",
    "        self.doors = doors\n",
    "        self.engineType = engineType\n",
    "\n",
    "    def drive(self):\n",
    "        print(f\"The person is driving a {self.engineType} car\")\n",
    "\n",
    "c1 = Car(4, 5, \"Diesel\")\n",
    "c1.drive()"
   ]
  },
  {
   "cell_type": "code",
   "execution_count": 4,
   "metadata": {},
   "outputs": [
    {
     "name": "stdout",
     "output_type": "stream",
     "text": [
      "The person is driving a Electric car\n",
      "It is self driving car\n"
     ]
    }
   ],
   "source": [
    "# child class of Car class\n",
    "class Tesla(Car):\n",
    "    def __init__(self, windows, doors, engineType, is_selfDriving):\n",
    "        super().__init__(windows, doors, engineType)\n",
    "        self.is_selfDriving = is_selfDriving\n",
    "\n",
    "    def selfDriving(self):\n",
    "        if(self.is_selfDriving):\n",
    "            print(\"It is self driving car\")\n",
    "        else:\n",
    "            print(\"It is not a self driving car\")\n",
    "\n",
    "t1 = Tesla(4, 4, \"Electric\", True)\n",
    "t1.drive()\n",
    "t1.selfDriving()"
   ]
  },
  {
   "cell_type": "markdown",
   "metadata": {},
   "source": [
    "### Multiple inheritance\n",
    "When a child class inherits the properties from two or more parents classes"
   ]
  },
  {
   "cell_type": "code",
   "execution_count": 6,
   "metadata": {},
   "outputs": [
    {
     "name": "stdout",
     "output_type": "stream",
     "text": [
      "Tom barks!!\n"
     ]
    }
   ],
   "source": [
    "# Parent classes\n",
    "class Animal:\n",
    "    def __init__(self, name):\n",
    "        self.name = name\n",
    "    \n",
    "class Pet:\n",
    "    def __init__(self, owner):\n",
    "        self.owner = owner\n",
    "\n",
    "# Child class\n",
    "class Dog(Animal, Pet):\n",
    "    def __init__(self, name, owner):\n",
    "        Animal.__init__(self, name)\n",
    "        Pet.__init__(self, owner)\n",
    "    \n",
    "    def speaks(self):\n",
    "        print (f\"{self.name} barks!!\")\n",
    "\n",
    "\n",
    "d1 = Dog(\"Tom\", \"Shivam\")\n",
    "d1.speaks()"
   ]
  },
  {
   "cell_type": "markdown",
   "metadata": {},
   "source": [
    "## **Polymorphism**\n",
    "Concept of OOPs that allows to have a different implemtation of things with same name"
   ]
  },
  {
   "cell_type": "markdown",
   "metadata": {},
   "source": [
    "### Method overriding\n",
    "Refers to when a child class defines it's own implementation of a method that is already defined in the parent class"
   ]
  },
  {
   "cell_type": "code",
   "execution_count": 8,
   "metadata": {},
   "outputs": [
    {
     "name": "stdout",
     "output_type": "stream",
     "text": [
      "Bark!!\n",
      "Meow!!\n"
     ]
    }
   ],
   "source": [
    "# Parent class\n",
    "class Animal:\n",
    "    def speaks(self):\n",
    "        print(\"Sound of the animal\")\n",
    "\n",
    "# Child classes\n",
    "class Dog(Animal):\n",
    "    def speaks(self):\n",
    "        print(\"Bark!!\")\n",
    "\n",
    "class Cat(Animal):\n",
    "    def speaks(self):\n",
    "        print(\"Meow!!\")\n",
    "\n",
    "d = Dog()\n",
    "d.speaks()\n",
    "\n",
    "c = Cat()\n",
    "c.speaks()\n"
   ]
  },
  {
   "cell_type": "markdown",
   "metadata": {},
   "source": [
    "### Polymorphism through abstract classes\n",
    "Abstract classes are special type of classes that only declares a method and enforces their child classes to implement it their own way"
   ]
  },
  {
   "cell_type": "code",
   "execution_count": 9,
   "metadata": {},
   "outputs": [
    {
     "name": "stdout",
     "output_type": "stream",
     "text": [
      "Car is starting\n",
      "Bike is starting\n"
     ]
    }
   ],
   "source": [
    "from abc import ABC, abstractclassmethod\n",
    "\n",
    "# Base abstract class\n",
    "class Vehicle(ABC):\n",
    "    @abstractclassmethod\n",
    "    def starts(self):\n",
    "        pass\n",
    "\n",
    "# child classes\n",
    "class Car(Vehicle):\n",
    "    def starts(self):\n",
    "        print(\"Car is starting\")\n",
    "\n",
    "class Bike(Vehicle):\n",
    "    def starts(self):\n",
    "        print(\"Bike is starting\")\n",
    "\n",
    "\n",
    "c = Car()\n",
    "b = Bike()\n",
    "\n",
    "c.starts()\n",
    "b.starts()"
   ]
  },
  {
   "cell_type": "markdown",
   "metadata": {},
   "source": [
    "## **Encapsulation**\n",
    "A concept of OOPs that encapsulate or wrap different methods and properties inside the class. It also allows to modify the access by different acess modifiers.\n",
    "\n",
    "### Access modifiers:\n",
    "* _Publlic_ : can be accesssed anywhere thorughout the program.\n",
    "* _Protected_ : can be accessed within the class and by the derived classes only. Place a single underscore (_) before the name of the member to make it protected.\n",
    "* _Private_ : can be accessed within the class only. Place a double underscore (__) before the name of the member to make it private\n",
    "\n",
    "**We can access the private member thorugh getter and setter only**"
   ]
  },
  {
   "cell_type": "code",
   "execution_count": 8,
   "metadata": {},
   "outputs": [
    {
     "name": "stdout",
     "output_type": "stream",
     "text": [
      "19\n",
      "20\n"
     ]
    }
   ],
   "source": [
    "class Person:\n",
    "    def __init__(self, name, gender, age):\n",
    "        self.name = name                    # public member\n",
    "        self._gender = gender               # protected member\n",
    "        self.__age = age                    # private member\n",
    "\n",
    "    # setter\n",
    "    def setAge(self, age):\n",
    "        self.__age = age\n",
    "    \n",
    "    # getter\n",
    "    def getAge(self):\n",
    "        print(self.__age)\n",
    "\n",
    "p1 = Person(\"Shivam\", \"male\", 19)\n",
    "# p1.age = 20 <- will generate an error as this is private member and it can't be accessed\n",
    "# print(p1.age) <- will generate an error as this is private member and it can't be accessed \n",
    "p1.getAge() # will print the age\n",
    "p1.setAge(20) # will modify the age\n",
    "p1.getAge()\n",
    "        "
   ]
  },
  {
   "cell_type": "markdown",
   "metadata": {},
   "source": [
    "## **Abstraction**\n",
    "Abstraction refers to that property of OOPs that let's us enable to show only important information and hide the functionalities which is not necessary "
   ]
  },
  {
   "cell_type": "code",
   "execution_count": 9,
   "metadata": {},
   "outputs": [
    {
     "name": "stdout",
     "output_type": "stream",
     "text": [
      "Car is starting\n",
      "Bike is starting\n"
     ]
    }
   ],
   "source": [
    "from abc import ABC, abstractclassmethod\n",
    "\n",
    "# Base abstract class\n",
    "class Vehicle(ABC):\n",
    "    @abstractclassmethod\n",
    "    def starts(self):\n",
    "        pass\n",
    "\n",
    "# child classes\n",
    "class Car(Vehicle):\n",
    "    def starts(self):\n",
    "        print(\"Car is starting\")\n",
    "\n",
    "class Bike(Vehicle):\n",
    "    def starts(self):\n",
    "        print(\"Bike is starting\")\n",
    "\n",
    "\n",
    "c = Car()\n",
    "b = Bike()\n",
    "\n",
    "c.starts()\n",
    "b.starts()"
   ]
  },
  {
   "cell_type": "markdown",
   "metadata": {},
   "source": [
    "----\n",
    "## Magic Methods\n",
    "Python Magic methods are the methods starting and ending with double underscores ‘__’. They are defined by built-in classes in Python and commonly used for operator overloading. They are also called Dunder methods, Dunder here means “Double Under (Underscores)”."
   ]
  },
  {
   "cell_type": "markdown",
   "metadata": {},
   "source": [
    "----\n",
    "## Custom error class"
   ]
  },
  {
   "cell_type": "code",
   "execution_count": 1,
   "metadata": {},
   "outputs": [],
   "source": [
    "class Error(Exception):\n",
    "    pass\n",
    "\n",
    "class dobException(Error):\n",
    "    pass"
   ]
  },
  {
   "cell_type": "code",
   "execution_count": 6,
   "metadata": {},
   "outputs": [
    {
     "name": "stdout",
     "output_type": "stream",
     "text": [
      "The year entered is invalid\n"
     ]
    }
   ],
   "source": [
    "y = int(input(\"Enter your year of birth: \"))\n",
    "age = 2024 - y\n",
    "\n",
    "try:\n",
    "    if age <= 0 or age > 100:\n",
    "        raise dobException\n",
    "    else:\n",
    "        print(\"Ok !\")\n",
    "except dobException:\n",
    "    print(\"The year entered is invalid\")"
   ]
  },
  {
   "cell_type": "code",
   "execution_count": null,
   "metadata": {},
   "outputs": [],
   "source": []
  }
 ],
 "metadata": {
  "kernelspec": {
   "display_name": "Python 3",
   "language": "python",
   "name": "python3"
  },
  "language_info": {
   "codemirror_mode": {
    "name": "ipython",
    "version": 3
   },
   "file_extension": ".py",
   "mimetype": "text/x-python",
   "name": "python",
   "nbconvert_exporter": "python",
   "pygments_lexer": "ipython3",
   "version": "3.11.2"
  }
 },
 "nbformat": 4,
 "nbformat_minor": 2
}
